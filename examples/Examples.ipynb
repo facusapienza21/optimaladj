{
 "cells": [
  {
   "cell_type": "markdown",
   "metadata": {},
   "source": [
    "# Finding optimal adjustment sets"
   ]
  },
  {
   "cell_type": "markdown",
   "metadata": {},
   "source": [
    "This notebooks illustrates the use of the package on the examples included in [Smucler, Sapienza and Rotnitzky (2020)](https://arxiv.org/abs/2004.10521)"
   ]
  },
  {
   "cell_type": "markdown",
   "metadata": {},
   "source": [
    "### Preliminaries"
   ]
  },
  {
   "cell_type": "code",
   "execution_count": null,
   "metadata": {},
   "outputs": [],
   "source": [
    "import matplotlib.pyplot as plt\n",
    "import networkx as nx\n",
    "from optimaladj.CausalGraph import CausalGraph"
   ]
  },
  {
   "cell_type": "markdown",
   "metadata": {},
   "source": [
    "Consider the design of the following hypothetical observational study discussed in [Shrier & Platt (2008)](https://doi.org/10.1186/1471-2288-8-70). The aim of the study is to assess the\n",
    "effect of warm-up exercise on injury after playing sports. Suppose that a researcher postulates\n",
    "that the graph below represents a causal graphical model. The vertex warm-up is the treatment variable, which stands for the type of exercise an athlete performs prior to playing sports,\n",
    "and the vertex injury stands for the outcome variable. Suppose that the goal is to estimate and\n",
    "compare the interventional means corresponding to different dynamic treatment regimes. Each\n",
    "regime prescribes the type of warm-up exercise as a function of previous injury and team motiva-\n",
    "tion. Suppose that due to practical limitations, the variables genetics, pre-grame proprioception,\n",
    "intra-game proprioception and tissue weakness cannot be measured.\n",
    "\n",
    "To build the graph, we declare $\\mathcal{G}$ to be an object of class ```CausalGraph``` and then add the corresponding edges. Since ```CausalGraph``` inherits from networkx's ```DiGraph``` building an object of class ```CausalGraph``` works exactly the same as building an object of class ```DiGraph```."
   ]
  },
  {
   "cell_type": "code",
   "execution_count": null,
   "metadata": {},
   "outputs": [],
   "source": [
    "G = CausalGraph()\n",
    "G.add_edges_from([('coach', 'team motivation'),\n",
    "                  ('coach', 'fitness'),\n",
    "                  ('fitness', 'pre-game prop'),\n",
    "                  ('fitness', 'neuromusc fatigue'),\n",
    "                  ('team motivation', 'warm-up'),\n",
    "                  ('team motivation', 'previous injury'),\n",
    "                  ('pre-game prop', 'warm-up'),\n",
    "                  ('warm-up', 'intra-game prop'), \n",
    "                  ('contact sport', 'previous injury'),\n",
    "                  ('contact sport', 'intra-game prop'),\n",
    "                  ('intra-game prop', 'injury'),\n",
    "                  ('genetics', 'fitness'),\n",
    "                  ('genetics', 'neuromusc fatigue'),\n",
    "                  ('genetics', 'tissue disorder'),\n",
    "                  ('tissue disorder', 'neuromusc fatigue'), \n",
    "                  ('tissue disorder', 'tissue weakness'),\n",
    "                  ('neuromusc fatigue', 'intra-game prop'),\n",
    "                  ('neuromusc fatigue', 'injury'),\n",
    "                  ('tissue weakness', 'injury')])"
   ]
  },
  {
   "cell_type": "code",
   "execution_count": null,
   "metadata": {},
   "outputs": [],
   "source": [
    "nx.draw_shell(G, with_labels=True, node_color='lightgreen', node_size = 1000)"
   ]
  },
  {
   "cell_type": "markdown",
   "metadata": {},
   "source": [
    "Next, we define the treatment and outcome variables, the variables that will be used to allocate treatment ($L$) and the observable variables ($N$)."
   ]
  },
  {
   "cell_type": "code",
   "execution_count": null,
   "metadata": {},
   "outputs": [],
   "source": [
    "treatment = 'warm-up'\n",
    "outcome = 'injury'\n",
    "L = ['team motivation', 'previous injury']\n",
    "N = ['team motivation', 'previous injury', 'warm-up', 'coach', 'fitness', 'contact sport', 'neuromusc fatigue', 'tissue disorder', 'injury']"
   ]
  },
  {
   "cell_type": "markdown",
   "metadata": {},
   "source": [
    "To find the optimal, optimal minimal and optimal minimum adjustment set, we use the ```optimal_adj_set```, ```optimal_minimal_adj_set``` and ```optimal_minimum_adj_set``` methods from the ```CausalGraph``` class."
   ]
  },
  {
   "cell_type": "code",
   "execution_count": null,
   "metadata": {},
   "outputs": [],
   "source": [
    "G.optimal_adj_set(treatment, outcome, L, N)"
   ]
  },
  {
   "cell_type": "code",
   "execution_count": null,
   "metadata": {},
   "outputs": [],
   "source": [
    "G.optimal_minimal_adj_set(treatment, outcome, L, N)"
   ]
  },
  {
   "cell_type": "code",
   "execution_count": null,
   "metadata": {},
   "outputs": [],
   "source": [
    "G.optimal_minimum_adj_set(treatment, outcome, L, N)"
   ]
  },
  {
   "cell_type": "markdown",
   "metadata": {},
   "source": [
    "Smucler, Sapienza and Rotnitzky (2020) show that when an optimal adjustment set exists it can be found as the set of neighbours of the outcome variable in an undirected graph, which they call $\\mathcal{H}^{1}$, constructed from the original graph $\\mathcal{G}$. Moreover, the optimal minimal adjustment set is the subset neighbours of the outcome variable in $\\mathcal{H}^{1}$ that have at least one path in $\\mathcal{H}^{1}$ to the treatment variable that does not intersect any other neighbours of the treatment variable. \n",
    "\n",
    "This graph may be of independent interest, since Smucler, Sapienza and Rotnitzky (2020) show that the set of minimal vertex cuts between the treatment and outcome variables in $\\mathcal{H}^{1}$ is equal to the set of minimal adjustment sets in $\\mathcal{G}$. Moreover, they show that the set of minimal vertex cuts in $\\mathcal{H}^{1}$ can be endowed with a lattice structure in such a way that the if one minimal vertex cuts $Z_1$ is smaller in this lattice than another minimal vertex cut $Z_2$, then the asymptotic variance of any non-parametric estimator of the interventional mean that adjusts for $Z_{1}$ is smaller than the asymptotic variance of any non-parametric estimator of the interventional mean that adjusts for $Z_{2}$.\n",
    "\n",
    "\n",
    "The ```build_H1``` method of the ```CausalGraph``` class computes the $\\mathcal{H}^{1}$  graph associated with $\\mathcal{G}$ ."
   ]
  },
  {
   "cell_type": "code",
   "execution_count": null,
   "metadata": {},
   "outputs": [],
   "source": [
    "H1 = G.build_H1(treatment, outcome, L, N)\n",
    "nx.draw_shell(H1, with_labels=True, node_color='lightgreen', node_size = 1000)"
   ]
  },
  {
   "cell_type": "markdown",
   "metadata": {},
   "source": [
    "### An example in which sufficient conditions to guarantee the existance of an optimal adjustment set do not hold"
   ]
  },
  {
   "cell_type": "markdown",
   "metadata": {},
   "source": [
    "For the graph below, it can be shown that the sufficient conditions to guarantee the existance of an optimal adjustment set introduced in Smucler, Sapienza and Rotnitzky (2020) do not hold. In this case, calling the ```optimal_adj_set``` method will raise in error. In fact, in this case it can be shown that actually an observable optimal adjustment set does not exist. However, optimal minimal and optimal minimum observable adjustment sets always exist, as long as there exists at least one adjustment set comprised of observable variables. For this graph, the optimal minimal and the optimal minimum adjustment sets are equal to the empty set."
   ]
  },
  {
   "cell_type": "code",
   "execution_count": null,
   "metadata": {},
   "outputs": [],
   "source": [
    "treatment = 'A'\n",
    "outcome = 'Y'\n",
    "\n",
    "L = []\n",
    "N = ['A', 'Y', 'Z1', 'Z2']\n",
    "\n",
    "G = CausalGraph()\n",
    "G.add_edges_from([('A', 'Y'),\n",
    "                  ('Z1', 'A'),\n",
    "                  ('Z1', 'Z2'),\n",
    "                  ('U', 'Z2'),\n",
    "                  ('U', 'Y')])"
   ]
  },
  {
   "cell_type": "code",
   "execution_count": null,
   "metadata": {},
   "outputs": [],
   "source": [
    "G.optimal_adj_set(treatment, outcome, L, N)"
   ]
  },
  {
   "cell_type": "code",
   "execution_count": null,
   "metadata": {},
   "outputs": [],
   "source": [
    "G.optimal_minimal_adj_set(treatment, outcome, L, N)"
   ]
  },
  {
   "cell_type": "code",
   "execution_count": null,
   "metadata": {},
   "outputs": [],
   "source": [
    "G.optimal_minimum_adj_set(treatment, outcome, L, N)"
   ]
  },
  {
   "cell_type": "markdown",
   "metadata": {},
   "source": [
    "### An example in which there are no observable adjustment sets"
   ]
  },
  {
   "cell_type": "markdown",
   "metadata": {},
   "source": [
    "In the graph below there are no adjustment sets comprised of only observable variables. In this setting, calling ```optimal_adj_set```,\n",
    " ```optimal_minimal_adj_set``` or ```optimal_minimum_adj_set``` will raise an error."
   ]
  },
  {
   "cell_type": "code",
   "execution_count": null,
   "metadata": {},
   "outputs": [],
   "source": [
    "treatment = 'A'\n",
    "outcome = 'Y'\n",
    "\n",
    "L = []\n",
    "N = ['A', 'Y']\n",
    "\n",
    "\n",
    "G = CausalGraph()\n",
    "G.add_edges_from([('U', 'A'),\n",
    "                    ('A', 'Y'),\n",
    "                    ('U', 'Y')])"
   ]
  },
  {
   "cell_type": "code",
   "execution_count": null,
   "metadata": {},
   "outputs": [],
   "source": [
    "nx.draw_shell(G, with_labels=True, node_color='lightgreen', node_size = 1000)"
   ]
  },
  {
   "cell_type": "code",
   "execution_count": null,
   "metadata": {},
   "outputs": [],
   "source": [
    "G.optimal_adj_set(treatment, outcome, L, N)"
   ]
  },
  {
   "cell_type": "code",
   "execution_count": null,
   "metadata": {},
   "outputs": [],
   "source": [
    "G.optimal_minimal_adj_set(treatment, outcome, L, N)"
   ]
  },
  {
   "cell_type": "code",
   "execution_count": null,
   "metadata": {},
   "outputs": [],
   "source": [
    "G.optimal_minimum_adj_set(treatment, outcome, L, N)"
   ]
  }
 ],
 "metadata": {
  "kernelspec": {
   "display_name": "Python 3",
   "language": "python",
   "name": "python3"
  },
  "language_info": {
   "codemirror_mode": {
    "name": "ipython",
    "version": 3
   },
   "file_extension": ".py",
   "mimetype": "text/x-python",
   "name": "python",
   "nbconvert_exporter": "python",
   "pygments_lexer": "ipython3",
   "version": "3.8.5"
  }
 },
 "nbformat": 4,
 "nbformat_minor": 4
}
