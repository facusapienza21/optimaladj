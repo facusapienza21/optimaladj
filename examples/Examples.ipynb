{
 "cells": [
  {
   "cell_type": "markdown",
   "metadata": {},
   "source": [
    "This notebooks illustrates the use of the package on the examples included in the paper"
   ]
  },
  {
   "cell_type": "code",
   "execution_count": null,
   "metadata": {},
   "outputs": [],
   "source": [
    "import networkx as nx\n",
    "import matplotlib.pyplot as plt\n",
    "import os\n",
    "from CausalGraph import CausalGraph"
   ]
  },
  {
   "cell_type": "markdown",
   "metadata": {},
   "source": [
    "### Figure 3"
   ]
  },
  {
   "cell_type": "code",
   "execution_count": null,
   "metadata": {},
   "outputs": [],
   "source": [
    "L = ['T']\n",
    "N = ['A', 'Y', 'M', 'T', 'F']\n",
    "treatment = 'A'\n",
    "outcome = 'Y'\n",
    "\n",
    "G = CausalGraph()\n",
    "G.add_edges_from([('A', 'M'),\n",
    "                  ('T', 'A'),\n",
    "                  ('T', 'F'),\n",
    "                  ('F', 'A'),\n",
    "                  ('U', 'F'),\n",
    "                  ('U', 'Y'),\n",
    "                  ('M', 'Y')])"
   ]
  },
  {
   "cell_type": "code",
   "execution_count": null,
   "metadata": {},
   "outputs": [],
   "source": [
    "nx.draw_shell(G, with_labels=True, node_color='lightgreen', node_size = 1000)"
   ]
  },
  {
   "cell_type": "code",
   "execution_count": null,
   "metadata": {},
   "outputs": [],
   "source": [
    "H0 = G.build_H0(treatment, outcome, L)\n",
    "nx.draw_shell(H0, with_labels=True, node_color='lightgreen', node_size = 1000)"
   ]
  },
  {
   "cell_type": "code",
   "execution_count": null,
   "metadata": {},
   "outputs": [],
   "source": [
    "H1 = G.build_H1(treatment, outcome, L, N)\n",
    "nx.draw_shell(H1, with_labels=True, node_color='lightgreen', node_size = 1000)"
   ]
  },
  {
   "cell_type": "code",
   "execution_count": null,
   "metadata": {},
   "outputs": [],
   "source": [
    "G.optimal_adj_set(treatment, outcome, L, N)"
   ]
  },
  {
   "cell_type": "code",
   "execution_count": null,
   "metadata": {},
   "outputs": [],
   "source": [
    "G.optimal_minimal_adj_set(treatment, outcome, L, N)"
   ]
  },
  {
   "cell_type": "code",
   "execution_count": null,
   "metadata": {},
   "outputs": [],
   "source": [
    "G.optimal_minimum_adj_set(treatment, outcome, L, N)"
   ]
  },
  {
   "cell_type": "markdown",
   "metadata": {},
   "source": [
    "### Figure 4"
   ]
  },
  {
   "cell_type": "code",
   "execution_count": null,
   "metadata": {},
   "outputs": [],
   "source": [
    "L = ['T']\n",
    "N = ['A', 'Y', 'T', 'W1', 'W2', 'W3', 'W4']\n",
    "\n",
    "G = CausalGraph()\n",
    "G.add_edges_from([('A', 'Y'),\n",
    "                  ('T', 'W1'),\n",
    "                  ('T', 'Y'),\n",
    "                  ('W1', 'A'),\n",
    "                  ('W2', 'W1'),\n",
    "                  ('W2', 'Y'),\n",
    "                  ('W3', 'W1'),\n",
    "                  ('W3', 'Y'),\n",
    "                  ('W4', 'Y')])"
   ]
  },
  {
   "cell_type": "code",
   "execution_count": null,
   "metadata": {},
   "outputs": [],
   "source": [
    "nx.draw_shell(G, with_labels=True, node_color='lightgreen', node_size = 1000)"
   ]
  },
  {
   "cell_type": "code",
   "execution_count": null,
   "metadata": {},
   "outputs": [],
   "source": [
    "H0 = G.build_H0(treatment, outcome, L)\n",
    "nx.draw_shell(H0, with_labels=True, node_color='lightgreen', node_size = 1000)"
   ]
  },
  {
   "cell_type": "code",
   "execution_count": null,
   "metadata": {},
   "outputs": [],
   "source": [
    "H1 = G.build_H1(treatment, outcome, L, N)\n",
    "nx.draw_shell(H1, with_labels=True, node_color='lightgreen', node_size = 1000)"
   ]
  },
  {
   "cell_type": "code",
   "execution_count": null,
   "metadata": {},
   "outputs": [],
   "source": [
    "G.optimal_adj_set(treatment, outcome, L, N)"
   ]
  },
  {
   "cell_type": "code",
   "execution_count": null,
   "metadata": {},
   "outputs": [],
   "source": [
    "G.optimal_minimal_adj_set(treatment, outcome, L, N)"
   ]
  },
  {
   "cell_type": "code",
   "execution_count": null,
   "metadata": {},
   "outputs": [],
   "source": [
    "G.optimal_minimum_adj_set(treatment, outcome, L, N)"
   ]
  },
  {
   "cell_type": "markdown",
   "metadata": {},
   "source": [
    "### Figure 5"
   ]
  },
  {
   "cell_type": "code",
   "execution_count": null,
   "metadata": {},
   "outputs": [],
   "source": [
    "L = []\n",
    "N = ['A', 'Y', 'Z1', 'Z2']\n",
    "\n",
    "G = CausalGraph()\n",
    "G.add_edges_from([('A', 'Y'),\n",
    "                  ('Z1', 'A'),\n",
    "                  ('Z1', 'Z2'),\n",
    "                  ('U', 'Z2'),\n",
    "                  ('U', 'Y')])"
   ]
  },
  {
   "cell_type": "code",
   "execution_count": null,
   "metadata": {},
   "outputs": [],
   "source": [
    "nx.draw_shell(G, with_labels=True, node_color='lightgreen', node_size = 1000)"
   ]
  },
  {
   "cell_type": "code",
   "execution_count": null,
   "metadata": {},
   "outputs": [],
   "source": [
    "H0 = G.build_H0(treatment, outcome, L)\n",
    "nx.draw_shell(H0, with_labels=True, node_color='lightgreen', node_size = 1000)"
   ]
  },
  {
   "cell_type": "code",
   "execution_count": null,
   "metadata": {},
   "outputs": [],
   "source": [
    "H1 = G.build_H1(treatment, outcome, L, N)\n",
    "nx.draw_shell(H1, with_labels=True, node_color='lightgreen', node_size = 1000)"
   ]
  },
  {
   "cell_type": "code",
   "execution_count": null,
   "metadata": {},
   "outputs": [],
   "source": [
    "G.optimal_adj_set(treatment, outcome, L, N)"
   ]
  },
  {
   "cell_type": "code",
   "execution_count": null,
   "metadata": {},
   "outputs": [],
   "source": [
    "G.optimal_minimal_adj_set(treatment, outcome, L, N)"
   ]
  },
  {
   "cell_type": "code",
   "execution_count": null,
   "metadata": {},
   "outputs": [],
   "source": [
    "G.optimal_minimum_adj_set(treatment, outcome, L, N)"
   ]
  }
 ],
 "metadata": {
  "kernelspec": {
   "display_name": "Python 3",
   "language": "python",
   "name": "python3"
  },
  "language_info": {
   "codemirror_mode": {
    "name": "ipython",
    "version": 3
   },
   "file_extension": ".py",
   "mimetype": "text/x-python",
   "name": "python",
   "nbconvert_exporter": "python",
   "pygments_lexer": "ipython3",
   "version": "3.8.5"
  }
 },
 "nbformat": 4,
 "nbformat_minor": 2
}
